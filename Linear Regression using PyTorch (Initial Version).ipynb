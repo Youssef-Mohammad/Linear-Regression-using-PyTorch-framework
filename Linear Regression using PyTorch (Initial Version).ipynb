{
  "cells": [
    {
      "cell_type": "code",
      "execution_count": 70,
      "metadata": {
        "id": "8vJQRheny_Q-"
      },
      "outputs": [],
      "source": [
        "import torch\n",
        "from torch import nn\n",
        "import matplotlib.pyplot as plt"
      ]
    },
    {
      "cell_type": "code",
      "execution_count": 71,
      "metadata": {
        "id": "PAMd32xI6OYY"
      },
      "outputs": [],
      "source": [
        " weight = 0.7\n",
        " bias = 0.3"
      ]
    },
    {
      "cell_type": "code",
      "execution_count": 72,
      "metadata": {
        "colab": {
          "base_uri": "https://localhost:8080/"
        },
        "id": "MfWGtlqT6UB2",
        "outputId": "7841c845-9762-4277-ee34-f052f54646a4"
      },
      "outputs": [
        {
          "output_type": "execute_result",
          "data": {
            "text/plain": [
              "(tensor([[0.0000],\n",
              "         [0.0200],\n",
              "         [0.0400],\n",
              "         [0.0600],\n",
              "         [0.0800],\n",
              "         [0.1000],\n",
              "         [0.1200],\n",
              "         [0.1400],\n",
              "         [0.1600],\n",
              "         [0.1800]]),\n",
              " tensor([[0.3000],\n",
              "         [0.3140],\n",
              "         [0.3280],\n",
              "         [0.3420],\n",
              "         [0.3560],\n",
              "         [0.3700],\n",
              "         [0.3840],\n",
              "         [0.3980],\n",
              "         [0.4120],\n",
              "         [0.4260]]))"
            ]
          },
          "metadata": {},
          "execution_count": 72
        }
      ],
      "source": [
        "start = 0\n",
        "end = 1\n",
        "step = 0.02\n",
        "\n",
        "X = torch.arange(start, end, step).unsqueeze(dim=1)\n",
        "y = weight * X + bias\n",
        "\n",
        "X[:10], y[:10]"
      ]
    },
    {
      "cell_type": "code",
      "execution_count": 73,
      "metadata": {
        "id": "mMDnDh3L7P7T"
      },
      "outputs": [],
      "source": [
        "train_split = int(0.8 * len(X))\n",
        "\n",
        "x_train, y_train = X[:train_split], y[:train_split]\n",
        "x_test, y_test = X[train_split:], y[train_split:]"
      ]
    },
    {
      "cell_type": "code",
      "execution_count": 74,
      "metadata": {
        "colab": {
          "base_uri": "https://localhost:8080/",
          "height": 445
        },
        "id": "D9oWAJn__vAV",
        "outputId": "0a750515-87e1-45a1-fad6-59f4f4cf2d0a"
      },
      "outputs": [
        {
          "output_type": "display_data",
          "data": {
            "text/plain": [
              "<Figure size 700x500 with 1 Axes>"
            ],
            "image/png": "[encoded data removed]"
          },
          "metadata": {}
        }
      ],
      "source": [
        "plt.figure(figsize=(7,5))\n",
        "plt.scatter(x_train, y_train, c='g', label=\"Training Data\")\n",
        "plt.scatter(x_test, y_test, c='b', label=\"Testing Data\")\n",
        "plt.legend()\n",
        "plt.show()"
      ]
    },
    {
      "cell_type": "markdown",
      "metadata": {
        "id": "S_5aAEwPA9rJ"
      },
      "source": [
        "#Creating Our Model"
      ]
    },
    {
      "cell_type": "code",
      "execution_count": 75,
      "metadata": {
        "id": "MCC0QN8xFT3Q"
      },
      "outputs": [],
      "source": [
        "class Linear_Regression_Model(nn.Module):\n",
        "  def __init__(self):\n",
        "    super().__init__()\n",
        "    self.weights = nn.Parameter(torch.randn(1,\n",
        "                                            requires_grad=True,\n",
        "                                            dtype=torch.float))\n",
        "\n",
        "    self.bias = nn.Parameter(torch.randn(1,\n",
        "                                         requires_grad=True,\n",
        "                                         dtype=torch.float))\n",
        "\n",
        "  def forward(self, x: torch.tensor) -> torch.Tensor:\n",
        "    return self.weights * x + self.bias"
      ]
    },
    {
      "cell_type": "code",
      "execution_count": 76,
      "metadata": {
        "colab": {
          "base_uri": "https://localhost:8080/"
        },
        "id": "TFoow5XDNNHh",
        "outputId": "ab88af85-de1a-4d79-9b46-b605f73386ca"
      },
      "outputs": [
        {
          "output_type": "execute_result",
          "data": {
            "text/plain": [
              "[Parameter containing:\n",
              " tensor([0.3367], requires_grad=True),\n",
              " Parameter containing:\n",
              " tensor([0.1288], requires_grad=True)]"
            ]
          },
          "metadata": {},
          "execution_count": 76
        }
      ],
      "source": [
        "torch.manual_seed(42)\n",
        "\n",
        "model_0 = Linear_Regression_Model()\n",
        "\n",
        "list(model_0.parameters())"
      ]
    },
    {
      "cell_type": "code",
      "execution_count": 77,
      "metadata": {
        "colab": {
          "base_uri": "https://localhost:8080/"
        },
        "id": "hexyaJLRd0_c",
        "outputId": "0b109aa7-25de-4757-928d-2df79c3416c2"
      },
      "outputs": [
        {
          "output_type": "execute_result",
          "data": {
            "text/plain": [
              "tensor([[0.3982],\n",
              "        [0.4049],\n",
              "        [0.4116],\n",
              "        [0.4184],\n",
              "        [0.4251],\n",
              "        [0.4318],\n",
              "        [0.4386],\n",
              "        [0.4453],\n",
              "        [0.4520],\n",
              "        [0.4588]])"
            ]
          },
          "metadata": {},
          "execution_count": 77
        }
      ],
      "source": [
        "with torch.inference_mode(): # Turns off Gradiend Tracking\n",
        "  y_pred = model_0(x_test)\n",
        "\n",
        "y_pred"
      ]
    },
    {
      "cell_type": "code",
      "source": [
        "plt.figure(figsize=(7,5))\n",
        "plt.scatter(x_train, y_train, c='g', label=\"Training Data\")\n",
        "plt.scatter(x_test, y_test, c='b', label=\"Testing Data\")\n",
        "plt.plot(x_test, y_pred, c='r', label=\"Predicted Data\")\n",
        "plt.legend()\n",
        "plt.show()"
      ],
      "metadata": {
        "colab": {
          "base_uri": "https://localhost:8080/",
          "height": 445
        },
        "id": "Rtdkpc_Jiftb",
        "outputId": "d24cf7e1-3c76-4169-e3a9-b209ad18092a"
      },
      "execution_count": 78,
      "outputs": [
        {
          "output_type": "display_data",
          "data": {
            "text/plain": [
              "<Figure size 700x500 with 1 Axes>"
            ],
            "image/png": "[encoded data removed]"
          },
          "metadata": {}
        }
      ]
    },
    {
      "cell_type": "code",
      "source": [
        "# Showing the parameters of our model\n",
        "list(model_0.parameters())"
      ],
      "metadata": {
        "colab": {
          "base_uri": "https://localhost:8080/"
        },
        "id": "qkKSKnN_8RfO",
        "outputId": "f3a60665-2870-44cf-ee16-cfaae2a0be71"
      },
      "execution_count": 79,
      "outputs": [
        {
          "output_type": "execute_result",
          "data": {
            "text/plain": [
              "[Parameter containing:\n",
              " tensor([0.3367], requires_grad=True),\n",
              " Parameter containing:\n",
              " tensor([0.1288], requires_grad=True)]"
            ]
          },
          "metadata": {},
          "execution_count": 79
        }
      ]
    },
    {
      "cell_type": "code",
      "source": [
        "# Another way to show your parameters\n",
        "model_0.state_dict()"
      ],
      "metadata": {
        "colab": {
          "base_uri": "https://localhost:8080/"
        },
        "id": "t_9AqBRq8frw",
        "outputId": "023bfc06-3346-4912-f2af-8e2dedfb9ffd"
      },
      "execution_count": 80,
      "outputs": [
        {
          "output_type": "execute_result",
          "data": {
            "text/plain": [
              "OrderedDict([('weights', tensor([0.3367])), ('bias', tensor([0.1288]))])"
            ]
          },
          "metadata": {},
          "execution_count": 80
        }
      ]
    },
    {
      "cell_type": "code",
      "source": [
        "# Setting a Loss Function\n",
        "Loss_Function = nn.L1Loss()\n",
        "\n",
        "# Setting an optimizer\n",
        "Optimizer = torch.optim.SGD(params=model_0.parameters(),\n",
        "                            lr=0.001)"
      ],
      "metadata": {
        "id": "YZ5HnfKn6PcC"
      },
      "execution_count": 81,
      "outputs": []
    },
    {
      "cell_type": "code",
      "source": [
        "epochs = 2000\n",
        "\n",
        "for epoch in range(epochs):\n",
        "  # Setting the model on training mode\n",
        "  model_0.train() #train mode sets all parameters that require grad to require grad\n",
        "\n",
        "  # 1. Forward Pass\n",
        "  y_pred = model_0(x_train)\n",
        "\n",
        "  # 2. Loss Function\n",
        "  loss = Loss_Function(y_pred, y_train)\n",
        "\n",
        "  # 3. Optimizer\n",
        "  Optimizer.zero_grad() # Here we zero the model previous gradience to avoid default accumlation at step 5\n",
        "\n",
        "  # 4. back_propagation\n",
        "  loss.backward()\n",
        "\n",
        "  # 5. Step the optimizer\n",
        "  Optimizer.step()\n",
        "\n",
        "  # printing the loss\n",
        "  if epoch % 100 == 0:\n",
        "    print(f\"loss: {loss}\")\n",
        "    print(model_0.state_dict())"
      ],
      "metadata": {
        "id": "1aP5xU9BGu7o",
        "colab": {
          "base_uri": "https://localhost:8080/"
        },
        "outputId": "628313eb-9cd3-40cf-9360-af9a665876e1"
      },
      "execution_count": 82,
      "outputs": [
        {
          "output_type": "stream",
          "name": "stdout",
          "text": [
            "loss: 0.31288138031959534\n",
            "OrderedDict([('weights', tensor([0.3371])), ('bias', tensor([0.1298]))])\n",
            "loss: 0.19767141342163086\n",
            "OrderedDict([('weights', tensor([0.3761])), ('bias', tensor([0.2298]))])\n",
            "loss: 0.08973254263401031\n",
            "OrderedDict([('weights', tensor([0.4150])), ('bias', tensor([0.3257]))])\n",
            "loss: 0.05357731133699417\n",
            "OrderedDict([('weights', tensor([0.4485])), ('bias', tensor([0.3730]))])\n",
            "loss: 0.04549176245927811\n",
            "OrderedDict([('weights', tensor([0.4730])), ('bias', tensor([0.3855]))])\n",
            "loss: 0.04160415381193161\n",
            "OrderedDict([('weights', tensor([0.4924])), ('bias', tensor([0.3839]))])\n",
            "loss: 0.03811401128768921\n",
            "OrderedDict([('weights', tensor([0.5104])), ('bias', tensor([0.3789]))])\n",
            "loss: 0.03466346859931946\n",
            "OrderedDict([('weights', tensor([0.5277])), ('bias', tensor([0.3724]))])\n",
            "loss: 0.03122851625084877\n",
            "OrderedDict([('weights', tensor([0.5448])), ('bias', tensor([0.3652]))])\n",
            "loss: 0.027794325724244118\n",
            "OrderedDict([('weights', tensor([0.5619])), ('bias', tensor([0.3580]))])\n",
            "loss: 0.02435956709086895\n",
            "OrderedDict([('weights', tensor([0.5790])), ('bias', tensor([0.3508]))])\n",
            "loss: 0.02092517353594303\n",
            "OrderedDict([('weights', tensor([0.5961])), ('bias', tensor([0.3437]))])\n",
            "loss: 0.017490629106760025\n",
            "OrderedDict([('weights', tensor([0.6131])), ('bias', tensor([0.3365]))])\n",
            "loss: 0.014056024141609669\n",
            "OrderedDict([('weights', tensor([0.6302])), ('bias', tensor([0.3293]))])\n",
            "loss: 0.010621682740747929\n",
            "OrderedDict([('weights', tensor([0.6473])), ('bias', tensor([0.3221]))])\n",
            "loss: 0.007186878472566605\n",
            "OrderedDict([('weights', tensor([0.6644])), ('bias', tensor([0.3150]))])\n",
            "loss: 0.003752306802198291\n",
            "OrderedDict([('weights', tensor([0.6815])), ('bias', tensor([0.3078]))])\n",
            "loss: 0.0003177322505507618\n",
            "OrderedDict([('weights', tensor([0.6986])), ('bias', tensor([0.3006]))])\n",
            "loss: 0.0004444979131221771\n",
            "OrderedDict([('weights', tensor([0.6997])), ('bias', tensor([0.3008]))])\n",
            "loss: 0.0004444979131221771\n",
            "OrderedDict([('weights', tensor([0.6997])), ('bias', tensor([0.3008]))])\n"
          ]
        }
      ]
    },
    {
      "cell_type": "code",
      "source": [
        "# Testing\n",
        "model_0.eval() # turns off gradience tracking set in step 1 and other settings not needed for testing\n",
        "y_test_pred = model_0(x_test)\n",
        "test_loss = Loss_Function(y_test_pred, y_test)\n"
      ],
      "metadata": {
        "id": "cRMiRaPGWE3w"
      },
      "execution_count": 83,
      "outputs": []
    },
    {
      "cell_type": "code",
      "source": [
        "plt.figure(figsize=(7,5))\n",
        "plt.scatter(x_train, y_train, c='g', label=\"Training Data\")\n",
        "plt.scatter(x_test, y_test, c='b', label=\"Testing Data\")\n",
        "plt.scatter(x_test, y_test_pred.detach().numpy(), c='r', label=\"Predicted Data\")\n",
        "plt.legend() # Adds a box with colors for each scatter\n",
        "plt.show()"
      ],
      "metadata": {
        "colab": {
          "base_uri": "https://localhost:8080/",
          "height": 445
        },
        "id": "twCY-aUYWP45",
        "outputId": "8d50614b-e172-4e80-c5f0-9387d0e9fe33"
      },
      "execution_count": 84,
      "outputs": [
        {
          "output_type": "display_data",
          "data": {
            "text/plain": [
              "<Figure size 700x500 with 1 Axes>"
            ],
            "image/png": "[encoded data removed]"
          },
          "metadata": {}
        }
      ]
    },
    {
      "cell_type": "code",
      "source": [
        "# Saving our pytorch model\n",
        "from pathlib import Path\n",
        "\n",
        "# 1. Creating a directory\n",
        "MODEL_PATH = Path(\"models\")\n",
        "MODEL_PATH.mkdir(parents=True, exist_ok=True)\n",
        "\n",
        "# 2. Create model save path\n",
        "MODEL_NAME = \"01_Linear_Regression.pth\"\n",
        "MODEL_SAVE_PATH = MODEL_PATH / MODEL_NAME\n",
        "\n",
        "# 3. Saving the model\n",
        "torch.save(obj=model_0.state_dict(),\n",
        "           f=MODEL_SAVE_PATH)"
      ],
      "metadata": {
        "id": "XyXypaTMNR5y"
      },
      "execution_count": 85,
      "outputs": []
    },
    {
      "cell_type": "code",
      "source": [
        "# Load the model\n",
        "# 1. Instantiate a new instance of our model\n",
        "loaded_model = Linear_Regression_Model()\n",
        "\n",
        "# 2. Load the state_dict\n",
        "loaded_model.load_state_dict(torch.load(f=MODEL_SAVE_PATH))"
      ],
      "metadata": {
        "colab": {
          "base_uri": "https://localhost:8080/"
        },
        "id": "39MM12qQNfhU",
        "outputId": "528695b3-6adc-47b4-daf5-ae981d9591c8"
      },
      "execution_count": 86,
      "outputs": [
        {
          "output_type": "execute_result",
          "data": {
            "text/plain": [
              "<All keys matched successfully>"
            ]
          },
          "metadata": {},
          "execution_count": 86
        }
      ]
    },
    {
      "cell_type": "code",
      "source": [
        "loaded_model.state_dict()"
      ],
      "metadata": {
        "colab": {
          "base_uri": "https://localhost:8080/"
        },
        "id": "wtL-ntuWh_RQ",
        "outputId": "5e692d0c-fb93-4792-bb78-0b3ea8358209"
      },
      "execution_count": 87,
      "outputs": [
        {
          "output_type": "execute_result",
          "data": {
            "text/plain": [
              "OrderedDict([('weights', tensor([0.6994])), ('bias', tensor([0.2998]))])"
            ]
          },
          "metadata": {},
          "execution_count": 87
        }
      ]
    },
    {
      "cell_type": "code",
      "source": [
        "# Testing the loaded model\n",
        "loaded_model.eval()\n",
        "with torch.inference_mode():\n",
        "  y_pred_loaded = loaded_model(x_test)\n",
        "\n",
        "  # Calculate the loss\n",
        "  loss_loaded = Loss_Function(y_pred_loaded, y_test)\n",
        "\n",
        "  print(loss_loaded)"
      ],
      "metadata": {
        "colab": {
          "base_uri": "https://localhost:8080/"
        },
        "id": "fzNgAFq2jZwm",
        "outputId": "f4f53bc9-6813-4da0-98da-e11e4082a3f2"
      },
      "execution_count": 88,
      "outputs": [
        {
          "output_type": "stream",
          "name": "stdout",
          "text": [
            "tensor(0.0008)\n"
          ]
        }
      ]
    }
  ],
  "metadata": {
    "accelerator": "GPU",
    "colab": {
      "provenance": []
    },
    "gpuClass": "standard",
    "kernelspec": {
      "display_name": "Python 3",
      "name": "python3"
    },
    "language_info": {
      "name": "python"
    }
  },
  "nbformat": 4,
  "nbformat_minor": 0
}