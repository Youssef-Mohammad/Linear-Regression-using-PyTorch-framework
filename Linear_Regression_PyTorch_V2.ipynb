{
  "nbformat": 4,
  "nbformat_minor": 0,
  "metadata": {
    "colab": {
      "provenance": [],
      "gpuType": "T4"
    },
    "kernelspec": {
      "name": "python3",
      "display_name": "Python 3"
    },
    "language_info": {
      "name": "python"
    },
    "accelerator": "GPU"
  },
  "cells": [
    {
      "cell_type": "code",
      "execution_count": 25,
      "metadata": {
        "id": "T6Vqute5_Cgp"
      },
      "outputs": [],
      "source": [
        "import torch\n",
        "from torch import nn\n",
        "import matplotlib.pyplot as plt"
      ]
    },
    {
      "cell_type": "code",
      "source": [
        "# Setup device agnostic code\n",
        "device = \"cuda\" if torch.cuda.is_available() else \"cpu\"\n",
        "print(f\"Using device: {device}\")"
      ],
      "metadata": {
        "colab": {
          "base_uri": "https://localhost:8080/"
        },
        "id": "nEg_SU9AGL3p",
        "outputId": "1d2e0943-4a7e-4579-b53e-4dffd4cd05a8"
      },
      "execution_count": 26,
      "outputs": [
        {
          "output_type": "stream",
          "name": "stdout",
          "text": [
            "Using device: cuda\n"
          ]
        }
      ]
    },
    {
      "cell_type": "code",
      "source": [
        "# Creating Data\n",
        "start = 0\n",
        "end = 1\n",
        "step = 0.02\n",
        "\n",
        "x = torch.arange(start, end, step).unsqueeze(dim=1)"
      ],
      "metadata": {
        "id": "WuCd2MyM_c2q"
      },
      "execution_count": 27,
      "outputs": []
    },
    {
      "cell_type": "code",
      "source": [
        "weight = 0.7\n",
        "bias = 0.3\n",
        "\n",
        "y = (weight * x + bias)"
      ],
      "metadata": {
        "id": "Jf_IXMGB_tsu"
      },
      "execution_count": 28,
      "outputs": []
    },
    {
      "cell_type": "code",
      "source": [
        "train_ratio = int(0.8 * len(x))\n",
        "x_train, y_train = x[:train_ratio], y[:train_ratio]\n",
        "x_test, y_test = x[train_ratio:], y[train_ratio:]\n",
        "\n",
        "len(x_train), len(x_test)"
      ],
      "metadata": {
        "colab": {
          "base_uri": "https://localhost:8080/"
        },
        "id": "j22pINQrAMfG",
        "outputId": "3b25b356-a1e6-408f-f959-00ed512601fd"
      },
      "execution_count": 29,
      "outputs": [
        {
          "output_type": "execute_result",
          "data": {
            "text/plain": [
              "(40, 10)"
            ]
          },
          "metadata": {},
          "execution_count": 29
        }
      ]
    },
    {
      "cell_type": "code",
      "source": [
        "def plot_predictions(train_data=x_train,\n",
        "                     train_labels=y_train,\n",
        "                     test_data=x_test,\n",
        "                     test_labels=y_test,\n",
        "                     predictions=None):\n",
        "\n",
        "  #Plots training data, test data and compares predictions.\n",
        "\n",
        "  plt.figure(figsize=(10, 7))\n",
        "\n",
        "  # Plot training data in blue\n",
        "  plt.scatter(train_data, train_labels, c=\"b\", s=4, label=\"Training data\")\n",
        "\n",
        "  # Plot test data in green\n",
        "  plt.scatter(test_data, test_labels, c=\"g\", s=4, label=\"Testing data\")\n",
        "\n",
        "  if predictions is not None:\n",
        "    # Plot the predictions in red (predictions were made on the test data)\n",
        "    plt.scatter(test_data, predictions, c=\"r\", s=4, label=\"Predictions\")\n",
        "\n",
        "  # Show the legend\n",
        "  plt.legend(prop={\"size\": 14})"
      ],
      "metadata": {
        "id": "j38mcDoPoYcN"
      },
      "execution_count": 30,
      "outputs": []
    },
    {
      "cell_type": "code",
      "source": [
        "plot_predictions()"
      ],
      "metadata": {
        "colab": {
          "base_uri": "https://localhost:8080/",
          "height": 599
        },
        "id": "XtNbgoHxohbe",
        "outputId": "5d86ab23-6067-4c06-db05-46264f635819"
      },
      "execution_count": 31,
      "outputs": [
        {
          "output_type": "display_data",
          "data": {
            "text/plain": [
              "<Figure size 1000x700 with 1 Axes>"
            ],
            "image/png": "[encoded data removed]"
          },
          "metadata": {}
        }
      ]
    },
    {
      "cell_type": "code",
      "source": [
        "class Linear_Regression(nn.Module):\n",
        "  def __init__(self):\n",
        "    super().__init__()\n",
        "\n",
        "    self.linear_layer = nn.Linear(in_features=1,\n",
        "                              out_features=1)\n",
        "\n",
        "  def forward(self, x: torch.tensor) -> torch.tensor:\n",
        "    return self.linear_layer(x)"
      ],
      "metadata": {
        "id": "6b4TU6rFAx2X"
      },
      "execution_count": 32,
      "outputs": []
    },
    {
      "cell_type": "code",
      "source": [
        "torch.manual_seed(42)\n",
        "model_1 = Linear_Regression()\n",
        "model_1.state_dict()"
      ],
      "metadata": {
        "colab": {
          "base_uri": "https://localhost:8080/"
        },
        "id": "LTYe7NMxtfcb",
        "outputId": "ccebbd4b-6882-46df-8d23-d78235dd35f6"
      },
      "execution_count": 33,
      "outputs": [
        {
          "output_type": "execute_result",
          "data": {
            "text/plain": [
              "OrderedDict([('linear_layer.weight', tensor([[0.7645]])),\n",
              "             ('linear_layer.bias', tensor([0.8300]))])"
            ]
          },
          "metadata": {},
          "execution_count": 33
        }
      ]
    },
    {
      "cell_type": "code",
      "source": [
        "# Check model device\n",
        "next(model_1.parameters()).device"
      ],
      "metadata": {
        "colab": {
          "base_uri": "https://localhost:8080/"
        },
        "id": "1Vq-_Mh_GuDq",
        "outputId": "3a15a774-b1cb-44e8-af72-cab9727463d2"
      },
      "execution_count": 34,
      "outputs": [
        {
          "output_type": "execute_result",
          "data": {
            "text/plain": [
              "device(type='cpu')"
            ]
          },
          "metadata": {},
          "execution_count": 34
        }
      ]
    },
    {
      "cell_type": "code",
      "source": [
        "# Set model to GPU if it's availalble, otherwise it'll default to CPU\n",
        "model_1.to(device) # the device variable was set above to be \"cuda\" if available or \"cpu\" if not\n",
        "next(model_1.parameters()).device"
      ],
      "metadata": {
        "colab": {
          "base_uri": "https://localhost:8080/"
        },
        "id": "SOzno50sGzjF",
        "outputId": "41ff9a88-46f9-4636-8239-6289eb3758ab"
      },
      "execution_count": 35,
      "outputs": [
        {
          "output_type": "execute_result",
          "data": {
            "text/plain": [
              "device(type='cuda', index=0)"
            ]
          },
          "metadata": {},
          "execution_count": 35
        }
      ]
    },
    {
      "cell_type": "code",
      "source": [
        "x_train = x_train.to(device)\n",
        "y_train = y_train.to(device)\n",
        "x_test = x_test.to(device)\n",
        "y_test = y_test.to(device)"
      ],
      "metadata": {
        "id": "3OtvgvEpHINl"
      },
      "execution_count": 40,
      "outputs": []
    },
    {
      "cell_type": "code",
      "source": [
        "initial_pred = model_1(x_test)\n",
        "plot_predictions(predictions= initial_pred.cpu().detach().numpy())"
      ],
      "metadata": {
        "colab": {
          "base_uri": "https://localhost:8080/",
          "height": 599
        },
        "id": "k3NIzCC7qYxb",
        "outputId": "7fb76d7a-ac0c-49c2-b13a-62d1264aa49b"
      },
      "execution_count": 45,
      "outputs": [
        {
          "output_type": "display_data",
          "data": {
            "text/plain": [
              "<Figure size 1000x700 with 1 Axes>"
            ],
            "image/png": "[encoded data removed]"
          },
          "metadata": {}
        }
      ]
    },
    {
      "cell_type": "code",
      "source": [
        "model_1.state_dict()"
      ],
      "metadata": {
        "colab": {
          "base_uri": "https://localhost:8080/"
        },
        "id": "DldxY5Ym3aBP",
        "outputId": "51a96c10-5729-4eb0-d1f0-72872ec7a618"
      },
      "execution_count": 46,
      "outputs": [
        {
          "output_type": "execute_result",
          "data": {
            "text/plain": [
              "OrderedDict([('linear_layer.weight', tensor([[0.7645]], device='cuda:0')),\n",
              "             ('linear_layer.bias', tensor([0.8300], device='cuda:0'))])"
            ]
          },
          "metadata": {},
          "execution_count": 46
        }
      ]
    },
    {
      "cell_type": "code",
      "source": [
        "# Setting a loss function\n",
        "loss_fn = nn.L1Loss()\n",
        "\n",
        "# Picking an optimizer\n",
        "optimizer = torch.optim.SGD(params=model_1.parameters(),\n",
        "                            lr=0.001)"
      ],
      "metadata": {
        "id": "CzuI9IItbVZF"
      },
      "execution_count": 47,
      "outputs": []
    },
    {
      "cell_type": "code",
      "source": [
        "epochs = 2000\n",
        "\n",
        "for epoch in range(epochs):\n",
        "  # Setting the model on training mode\n",
        "  model_1.train() #train mode sets all parameters that require grad to require grad\n",
        "\n",
        "  # 1. Forward Pass\n",
        "  y_pred = model_1(x_train)\n",
        "\n",
        "  # 2. Loss Function\n",
        "  loss = loss_fn(y_pred, y_train)\n",
        "\n",
        "  # 3. Optimizer\n",
        "  optimizer.zero_grad() # Here we zero the model previous gradience to avoid default accumlation at step 5\n",
        "\n",
        "  # 4. back_propagation\n",
        "  loss.backward()\n",
        "\n",
        "  # 5. Step the optimizer\n",
        "  optimizer.step()\n",
        "\n",
        "  # printing the loss\n",
        "  if epoch % 100 == 0:\n",
        "    print(f\"loss: {loss}\")\n",
        "    print(model_1.state_dict())"
      ],
      "metadata": {
        "colab": {
          "base_uri": "https://localhost:8080/"
        },
        "id": "POuJCfz-huo_",
        "outputId": "8dcdc47e-6baa-42b4-8cbf-b76b65b46ac0"
      },
      "execution_count": 48,
      "outputs": [
        {
          "output_type": "stream",
          "name": "stdout",
          "text": [
            "loss: 0.5551779866218567\n",
            "OrderedDict([('linear_layer.weight', tensor([[0.7641]], device='cuda:0')), ('linear_layer.bias', tensor([0.8290], device='cuda:0'))])\n",
            "loss: 0.4399694502353668\n",
            "OrderedDict([('linear_layer.weight', tensor([[0.7251]], device='cuda:0')), ('linear_layer.bias', tensor([0.7290], device='cuda:0'))])\n",
            "loss: 0.3247610330581665\n",
            "OrderedDict([('linear_layer.weight', tensor([[0.6861]], device='cuda:0')), ('linear_layer.bias', tensor([0.6290], device='cuda:0'))])\n",
            "loss: 0.209552600979805\n",
            "OrderedDict([('linear_layer.weight', tensor([[0.6472]], device='cuda:0')), ('linear_layer.bias', tensor([0.5290], device='cuda:0'))])\n",
            "loss: 0.09434414654970169\n",
            "OrderedDict([('linear_layer.weight', tensor([[0.6082]], device='cuda:0')), ('linear_layer.bias', tensor([0.4290], device='cuda:0'))])\n",
            "loss: 0.024156799539923668\n",
            "OrderedDict([('linear_layer.weight', tensor([[0.5873]], device='cuda:0')), ('linear_layer.bias', tensor([0.3558], device='cuda:0'))])\n",
            "loss: 0.019893135875463486\n",
            "OrderedDict([('linear_layer.weight', tensor([[0.6014]], device='cuda:0')), ('linear_layer.bias', tensor([0.3418], device='cuda:0'))])\n",
            "loss: 0.016448119655251503\n",
            "OrderedDict([('linear_layer.weight', tensor([[0.6183]], device='cuda:0')), ('linear_layer.bias', tensor([0.3343], device='cuda:0'))])\n",
            "loss: 0.013014188967645168\n",
            "OrderedDict([('linear_layer.weight', tensor([[0.6354]], device='cuda:0')), ('linear_layer.bias', tensor([0.3271], device='cuda:0'))])\n",
            "loss: 0.009578976780176163\n",
            "OrderedDict([('linear_layer.weight', tensor([[0.6525]], device='cuda:0')), ('linear_layer.bias', tensor([0.3200], device='cuda:0'))])\n",
            "loss: 0.006145037245005369\n",
            "OrderedDict([('linear_layer.weight', tensor([[0.6696]], device='cuda:0')), ('linear_layer.bias', tensor([0.3128], device='cuda:0'))])\n",
            "loss: 0.0027104676701128483\n",
            "OrderedDict([('linear_layer.weight', tensor([[0.6867]], device='cuda:0')), ('linear_layer.bias', tensor([0.3056], device='cuda:0'))])\n",
            "loss: 0.0007765308255329728\n",
            "OrderedDict([('linear_layer.weight', tensor([[0.6995]], device='cuda:0')), ('linear_layer.bias', tensor([0.2998], device='cuda:0'))])\n",
            "loss: 0.0007765308255329728\n",
            "OrderedDict([('linear_layer.weight', tensor([[0.6995]], device='cuda:0')), ('linear_layer.bias', tensor([0.2998], device='cuda:0'))])\n",
            "loss: 0.0007765308255329728\n",
            "OrderedDict([('linear_layer.weight', tensor([[0.6995]], device='cuda:0')), ('linear_layer.bias', tensor([0.2998], device='cuda:0'))])\n",
            "loss: 0.0007765308255329728\n",
            "OrderedDict([('linear_layer.weight', tensor([[0.6995]], device='cuda:0')), ('linear_layer.bias', tensor([0.2998], device='cuda:0'))])\n",
            "loss: 0.0007765308255329728\n",
            "OrderedDict([('linear_layer.weight', tensor([[0.6995]], device='cuda:0')), ('linear_layer.bias', tensor([0.2998], device='cuda:0'))])\n",
            "loss: 0.0007765308255329728\n",
            "OrderedDict([('linear_layer.weight', tensor([[0.6995]], device='cuda:0')), ('linear_layer.bias', tensor([0.2998], device='cuda:0'))])\n",
            "loss: 0.0007765308255329728\n",
            "OrderedDict([('linear_layer.weight', tensor([[0.6995]], device='cuda:0')), ('linear_layer.bias', tensor([0.2998], device='cuda:0'))])\n",
            "loss: 0.0007765308255329728\n",
            "OrderedDict([('linear_layer.weight', tensor([[0.6995]], device='cuda:0')), ('linear_layer.bias', tensor([0.2998], device='cuda:0'))])\n"
          ]
        }
      ]
    },
    {
      "cell_type": "code",
      "source": [
        "# Testing\n",
        "model_1.eval()\n",
        "with torch.inference_mode():\n",
        "  # Forward Pass\n",
        "  y_test_pred = model_1(x_test)\n",
        "\n",
        "  # Calculate the loss\n",
        "  test_loss = loss_fn(y_test_pred, y_test)"
      ],
      "metadata": {
        "id": "9wvFUUG3vssb"
      },
      "execution_count": 49,
      "outputs": []
    },
    {
      "cell_type": "code",
      "source": [
        "weight, bias, test_loss"
      ],
      "metadata": {
        "id": "mntGRUrNpGoj",
        "colab": {
          "base_uri": "https://localhost:8080/"
        },
        "outputId": "515de825-3237-4b21-c529-c046672e24aa"
      },
      "execution_count": 50,
      "outputs": [
        {
          "output_type": "execute_result",
          "data": {
            "text/plain": [
              "(0.7, 0.3, tensor(0.0007, device='cuda:0'))"
            ]
          },
          "metadata": {},
          "execution_count": 50
        }
      ]
    },
    {
      "cell_type": "code",
      "source": [
        "model_1.state_dict()"
      ],
      "metadata": {
        "id": "mjfN11D-l8Ax",
        "colab": {
          "base_uri": "https://localhost:8080/"
        },
        "outputId": "a9d11432-0fb4-4805-e368-1e1320072ccd"
      },
      "execution_count": 51,
      "outputs": [
        {
          "output_type": "execute_result",
          "data": {
            "text/plain": [
              "OrderedDict([('linear_layer.weight', tensor([[0.6999]], device='cuda:0')),\n",
              "             ('linear_layer.bias', tensor([0.3008], device='cuda:0'))])"
            ]
          },
          "metadata": {},
          "execution_count": 51
        }
      ]
    },
    {
      "cell_type": "code",
      "source": [
        "plot_predictions(predictions=y_test_pred.cpu())"
      ],
      "metadata": {
        "id": "DYF1m7tMopCF",
        "colab": {
          "base_uri": "https://localhost:8080/",
          "height": 599
        },
        "outputId": "ac4b8015-499c-45ec-eb8d-6068c31b2b9b"
      },
      "execution_count": 53,
      "outputs": [
        {
          "output_type": "display_data",
          "data": {
            "text/plain": [
              "<Figure size 1000x700 with 1 Axes>"
            ],
            "image/png": "[encoded data removed]"
          },
          "metadata": {}
        }
      ]
    },
    {
      "cell_type": "code",
      "source": [
        "# Saving the model\n",
        "from pathlib import Path\n",
        "\n",
        "# Creating models path\n",
        "MODELS_PATH = Path(\"models\")\n",
        "MODELS_PATH.mkdir(parents=True, exist_ok=True)\n",
        "\n",
        "# Saving the model there\n",
        "MODEL_NAME = \"Linear_Regression_V2.pth\"\n",
        "MODEL_SAVE_PATH = MODELS_PATH / MODEL_NAME\n",
        "\n",
        "print(f\"Saving model to: {MODEL_SAVE_PATH}\")\n",
        "torch.save(obj=model_1.state_dict(),\n",
        "           f=MODEL_SAVE_PATH)"
      ],
      "metadata": {
        "colab": {
          "base_uri": "https://localhost:8080/"
        },
        "id": "1YJnTfl488Bx",
        "outputId": "af875894-e384-4d6f-ed7a-a5c2427988c6"
      },
      "execution_count": 54,
      "outputs": [
        {
          "output_type": "stream",
          "name": "stdout",
          "text": [
            "Saving model to: models/Linear_Regression_V2.pth\n"
          ]
        }
      ]
    },
    {
      "cell_type": "code",
      "source": [
        "# Loading the model\n",
        "# 1. Instantiating a new instanse of the model\n",
        "loaded_model = Linear_Regression()\n",
        "\n",
        "# 2. Load the state dict of the model\n",
        "loaded_model.load_state_dict(torch.load(f=MODEL_SAVE_PATH))"
      ],
      "metadata": {
        "colab": {
          "base_uri": "https://localhost:8080/"
        },
        "id": "sp87fZDmCb4x",
        "outputId": "f2a50020-8147-4677-8df6-987aab35f505"
      },
      "execution_count": 55,
      "outputs": [
        {
          "output_type": "execute_result",
          "data": {
            "text/plain": [
              "<All keys matched successfully>"
            ]
          },
          "metadata": {},
          "execution_count": 55
        }
      ]
    },
    {
      "cell_type": "code",
      "source": [
        "loaded_model.to(device)"
      ],
      "metadata": {
        "colab": {
          "base_uri": "https://localhost:8080/"
        },
        "id": "BLmB_05yIN8f",
        "outputId": "458103d4-2378-4a45-82c5-674151277bbd"
      },
      "execution_count": 57,
      "outputs": [
        {
          "output_type": "execute_result",
          "data": {
            "text/plain": [
              "Linear_Regression(\n",
              "  (linear_layer): Linear(in_features=1, out_features=1, bias=True)\n",
              ")"
            ]
          },
          "metadata": {},
          "execution_count": 57
        }
      ]
    },
    {
      "cell_type": "code",
      "source": [
        "loaded_model.eval()\n",
        "with torch.inference_mode():\n",
        "  loaded_model_pred = loaded_model(x_test)\n",
        "loss_fn(loaded_model_pred, y_test)"
      ],
      "metadata": {
        "colab": {
          "base_uri": "https://localhost:8080/"
        },
        "id": "Ns3W8_eNDJNs",
        "outputId": "295f2f5c-38a4-46f5-d922-f622aed81835"
      },
      "execution_count": 58,
      "outputs": [
        {
          "output_type": "execute_result",
          "data": {
            "text/plain": [
              "tensor(0.0007, device='cuda:0')"
            ]
          },
          "metadata": {},
          "execution_count": 58
        }
      ]
    },
    {
      "cell_type": "code",
      "source": [
        "plot_predictions(predictions= loaded_model_pred.cpu().detach().numpy())"
      ],
      "metadata": {
        "colab": {
          "base_uri": "https://localhost:8080/",
          "height": 599
        },
        "id": "J8fcHsFQDehy",
        "outputId": "3a04540b-9365-487f-d33e-7a276b70305d"
      },
      "execution_count": 60,
      "outputs": [
        {
          "output_type": "display_data",
          "data": {
            "text/plain": [
              "<Figure size 1000x700 with 1 Axes>"
            ],
            "image/png": "[encoded data removed]"
          },
          "metadata": {}
        }
      ]
    }
  ]
}